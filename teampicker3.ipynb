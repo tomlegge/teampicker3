{
 "cells": [
  {
   "cell_type": "code",
   "execution_count": null,
   "metadata": {},
   "outputs": [],
   "source": [
    "import pandas as pd # to handle data\n",
    "import numpy as np # for working with numbers in Python\n",
    "import os # to handle windows file paths \n",
    "import datetime # for adding datestamp to output file\n",
    "from IPython.display import display # to display data frame as a table\n",
    "import random"
   ]
  },
  {
   "cell_type": "code",
   "execution_count": null,
   "metadata": {},
   "outputs": [],
   "source": [
    "# This loads the player list and attributes - replace with your location and update the list of players and their attributes\n",
    "playerspd = pd.read_csv(os.path.join(\"C:\\\\Users\\\\040025118\\\\Projects\\\\team-picker-jupyter\", \"playerratings.csv\"), usecols=['Player', 'Ball Skills', 'Physical', 'Shooting', 'Mental', 'Passing', 'Overall'])"
   ]
  },
  {
   "cell_type": "code",
   "execution_count": null,
   "metadata": {},
   "outputs": [],
   "source": [
    "#show the full player list\n",
    "#playerspd.sort_values(by=['Overall'], ascending=False)\n",
    "#playerspd.sample(len(playerspd))"
   ]
  },
  {
   "cell_type": "code",
   "execution_count": null,
   "metadata": {
    "scrolled": false
   },
   "outputs": [],
   "source": [
    "display(playerspd)"
   ]
  },
  {
   "cell_type": "code",
   "execution_count": null,
   "metadata": {},
   "outputs": [],
   "source": [
    "number_of_players = int(input(\"how many people are playing?:\"))"
   ]
  },
  {
   "cell_type": "code",
   "execution_count": null,
   "metadata": {},
   "outputs": [],
   "source": [
    "selected_players = []"
   ]
  },
  {
   "cell_type": "code",
   "execution_count": null,
   "metadata": {},
   "outputs": [],
   "source": [
    "while len(selected_players) < number_of_players:\n",
    "    user_input = int(input(\"enter the player number:\"))\n",
    "    selected_players.append(user_input)"
   ]
  },
  {
   "cell_type": "code",
   "execution_count": null,
   "metadata": {},
   "outputs": [],
   "source": [
    "print(selected_players)"
   ]
  },
  {
   "cell_type": "code",
   "execution_count": null,
   "metadata": {},
   "outputs": [],
   "source": [
    "todaysplayerlist = playerspd.iloc[selected_players]"
   ]
  },
  {
   "cell_type": "code",
   "execution_count": null,
   "metadata": {},
   "outputs": [],
   "source": [
    "display(todaysplayerlist)"
   ]
  },
  {
   "cell_type": "code",
   "execution_count": null,
   "metadata": {},
   "outputs": [],
   "source": [
    "def gen_team():\n",
    "    random_number_assignment = random.sample(range(number_of_players), number_of_players)\n",
    "    todaysplayerlist['Random'] = random_number_assignment\n",
    "    team_size = number_of_players / 2\n",
    "    team_size_int = int(team_size)\n",
    "    today_randomised = todaysplayerlist.sort_values(by='Random')\n",
    "    red_team = today_randomised.iloc[:team_size_int,:]\n",
    "    blue_team = today_randomised.iloc[team_size_int:,:]\n",
    "    red_team_total_score = red_team['Overall'].sum()\n",
    "    blue_team_total_score = blue_team['Overall'].sum()\n",
    "    red_team_physical_score = red_team['Physical'].sum()\n",
    "    blue_team_physical_score = blue_team['Physical'].sum()\n",
    "    diff = red_team_total_score - blue_team_total_score\n",
    "    physicaldiff = red_team_physical_score - blue_team_physical_score\n",
    "    shootingdiff = red_team['Shooting'].sum() - blue_team['Shooting'].sum()\n",
    "    mentaldiff = red_team['Mental'].sum() - blue_team['Mental'].sum()\n",
    "    passingdiff = red_team['Passing'].sum() - blue_team['Passing'].sum()\n",
    "    balldiff = red_team['Ball Skills'].sum() - blue_team['Ball Skills'].sum()\n",
    "    \n",
    "    # for closer teams, update the values in the line below. Update the output location for red_team and blue_team to a directory you have access to / that already exists\n",
    "    \n",
    "    if (-50 < diff < 50) & (-50 < physicaldiff < 50) & (-50 < shootingdiff < 50) & (-50 < mentaldiff < 50) & (-50 < passingdiff < 50) & (-50 < balldiff < 50):\n",
    "        red_team.to_csv(\"C:\\\\Users\\\\040025118\\\\Projects\\\\team-picker-jupyter\\\\red_team\" + \".csv\")\n",
    "        blue_team.to_csv(\"./blue_team\" +\".csv\")\n",
    "        print('Blue Team')\n",
    "        display(blue_team)\n",
    "        print('Red Team')\n",
    "        display(red_team)\n",
    "        display(diff)\n",
    "    else:\n",
    "        print('not close enough..')\n",
    "        gen_team()\n",
    "    \n",
    "\n"
   ]
  },
  {
   "cell_type": "code",
   "execution_count": null,
   "metadata": {},
   "outputs": [],
   "source": [
    "gen_team()"
   ]
  },
  {
   "cell_type": "code",
   "execution_count": null,
   "metadata": {},
   "outputs": [],
   "source": []
  },
  {
   "cell_type": "code",
   "execution_count": null,
   "metadata": {},
   "outputs": [],
   "source": []
  }
 ],
 "metadata": {
  "kernelspec": {
   "display_name": "Python 3",
   "language": "python",
   "name": "python3"
  },
  "language_info": {
   "codemirror_mode": {
    "name": "ipython",
    "version": 3
   },
   "file_extension": ".py",
   "mimetype": "text/x-python",
   "name": "python",
   "nbconvert_exporter": "python",
   "pygments_lexer": "ipython3",
   "version": "3.8.3"
  }
 },
 "nbformat": 4,
 "nbformat_minor": 4
}
